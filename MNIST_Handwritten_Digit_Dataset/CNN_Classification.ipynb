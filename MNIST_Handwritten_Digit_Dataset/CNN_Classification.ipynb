{
 "cells": [
  {
   "cell_type": "code",
   "execution_count": 5,
   "metadata": {},
   "outputs": [
    {
     "output_type": "error",
     "ename": "ModuleNotFoundError",
     "evalue": "No module named 'torch'",
     "traceback": [
      "\u001b[1;31m---------------------------------------------------------------------------\u001b[0m",
      "\u001b[1;31mModuleNotFoundError\u001b[0m                       Traceback (most recent call last)",
      "\u001b[1;32m<ipython-input-5-62eaef77295f>\u001b[0m in \u001b[0;36m<module>\u001b[1;34m\u001b[0m\n\u001b[0;32m      3\u001b[0m \u001b[1;32mimport\u001b[0m \u001b[0mmatplotlib\u001b[0m\u001b[1;33m.\u001b[0m\u001b[0mpyplot\u001b[0m \u001b[1;32mas\u001b[0m \u001b[0mplt\u001b[0m\u001b[1;33m\u001b[0m\u001b[1;33m\u001b[0m\u001b[0m\n\u001b[0;32m      4\u001b[0m \u001b[1;32mimport\u001b[0m \u001b[0mnumpy\u001b[0m \u001b[1;32mas\u001b[0m \u001b[0mnp\u001b[0m\u001b[1;33m\u001b[0m\u001b[1;33m\u001b[0m\u001b[0m\n\u001b[1;32m----> 5\u001b[1;33m \u001b[1;32mimport\u001b[0m \u001b[0mtorch\u001b[0m\u001b[1;33m.\u001b[0m\u001b[0mnn\u001b[0m \u001b[1;32mas\u001b[0m \u001b[0mnn\u001b[0m\u001b[1;33m\u001b[0m\u001b[1;33m\u001b[0m\u001b[0m\n\u001b[0m\u001b[0;32m      6\u001b[0m \u001b[1;32mimport\u001b[0m \u001b[0mtorch\u001b[0m\u001b[1;33m\u001b[0m\u001b[1;33m\u001b[0m\u001b[0m\n\u001b[0;32m      7\u001b[0m \u001b[1;32mimport\u001b[0m \u001b[0mtorch\u001b[0m\u001b[1;33m.\u001b[0m\u001b[0mutils\u001b[0m\u001b[1;33m.\u001b[0m\u001b[0mdata\u001b[0m \u001b[1;32mas\u001b[0m \u001b[0mdata\u001b[0m\u001b[1;33m\u001b[0m\u001b[1;33m\u001b[0m\u001b[0m\n",
      "\u001b[1;31mModuleNotFoundError\u001b[0m: No module named 'torch'"
     ]
    }
   ],
   "source": [
    "from mlxtend.data import loadlocal_mnist\n",
    "import platform\n",
    "import matplotlib.pyplot as plt\n",
    "import numpy as np\n",
    "import torch.nn as nn\n",
    "import torch\n",
    "import torch.utils.data as data\n",
    "import torch.optim as optim\n",
    "import sklearn.metrics\n",
    "import skimage\n",
    "import skimage.transform"
   ]
  },
  {
   "cell_type": "code",
   "execution_count": 2,
   "metadata": {},
   "outputs": [],
   "source": [
    "# Load MNIST Dataset\n",
    "\n",
    "X_train, y_train = loadlocal_mnist(\n",
    "            images_path='train-images.idx3-ubyte', \n",
    "            labels_path='train-labels.idx1-ubyte')\n",
    "\n",
    "X_test, y_test = loadlocal_mnist(\n",
    "            images_path='t10k-images.idx3-ubyte', \n",
    "            labels_path='t10k-labels.idx1-ubyte')\n",
    "\n",
    "X_train = np.resize(X_train, (60000, 28, 28))\n",
    "X_test = np.resize(X_test, (10000, 28, 28))\n",
    "\n",
    "y_train = nn.functional.one_hot(torch.tensor(y_train).long())\n",
    "y_test = nn.functional.one_hot(torch.tensor(y_test).long())"
   ]
  },
  {
   "cell_type": "code",
   "execution_count": 3,
   "metadata": {},
   "outputs": [
    {
     "name": "stdout",
     "output_type": "stream",
     "text": [
      "Lable: tensor([0, 0, 0, 0, 1, 0, 0, 0, 0, 0])\n"
     ]
    },
    {
     "data": {
      "image/png": "[encoded data removed]",
      "text/plain": [
       "<Figure size 432x288 with 1 Axes>"
      ]
     },
     "metadata": {
      "needs_background": "light"
     },
     "output_type": "display_data"
    }
   ],
   "source": [
    "# Plot Example\n",
    "\n",
    "img_nr = 2\n",
    "\n",
    "print('Lable:', y_train[img_nr])\n",
    "\n",
    "image = X_train[img_nr]\n",
    "\n",
    "fig = plt.figure\n",
    "plt.imshow(image, cmap='gray')\n",
    "plt.show()"
   ]
  },
  {
   "cell_type": "code",
   "execution_count": 4,
   "metadata": {},
   "outputs": [],
   "source": [
    "# Create Dataset for Batchlearning\n",
    "\n",
    "class BasicDataset(data.Dataset):\n",
    "    def __init__(self, X, y):\n",
    "        self.X = np.expand_dims(X, axis=1)\n",
    "        self.y = y\n",
    "        \n",
    "        \n",
    "    \n",
    "    def __getitem__(self, idx):\n",
    "        return dict(X=self.X[idx], y=self.y[idx])\n",
    "    \n",
    "    def __len__(self):\n",
    "        return self.X.shape[0]"
   ]
  },
  {
   "cell_type": "code",
   "execution_count": 5,
   "metadata": {},
   "outputs": [],
   "source": [
    "class CNN(nn.Module):\n",
    "    def __init__(self):\n",
    "        super().__init__()\n",
    "        \n",
    "        self.model = nn.Sequential(nn.Conv2d(1, 3, 3, 2),\n",
    "                                   nn.ReLU(),\n",
    "                                   nn.Conv2d(3, 3, 3, 2),\n",
    "                                   nn.ReLU(),\n",
    "                                   nn.MaxPool2d(2, 1),\n",
    "                                   nn.Flatten(1,3),\n",
    "                                   nn.Linear(75, 50),\n",
    "                                   nn.ReLU(),\n",
    "                                   nn.Linear(50, 20),\n",
    "                                   nn.ReLU(),\n",
    "                                   nn.Linear(20, 10), \n",
    "                                   nn.Softmax(1))\n",
    "    \n",
    "\n",
    "    def forward(self, x):\n",
    "        out = self.model(torch.Tensor(x))\n",
    "        #out = torch.argmax(out, dim=1)\n",
    "        return out.unsqueeze(0)\n",
    "        \n",
    "    def train(self, dataset, learning_rate, batch_size, epochs): \n",
    "        optimizer = optim.Adam(self.model.parameters())\n",
    "\n",
    "        # Train linear model using SGD on mini-batches.\n",
    "        for epoch in range(epochs):\n",
    "            # DataLoader generates random batches from a given dataset.\n",
    "            data_loader = data.DataLoader(dataset=dataset, batch_size=batch_size, shuffle=True, drop_last=True)\n",
    "             # We want to report the training loss after each epoch\n",
    "            epoch_loss = 0.0 \n",
    "\n",
    "            for batch in data_loader:\n",
    "                # After each iteration of the training step, reset the local gradients stored in the network to zero.\n",
    "                self.model.zero_grad()\n",
    "                self.model.zero_grad()\n",
    "                \n",
    "                # Compute the forward pass.\n",
    "                # Numpy uses doubles by default but Torch expects floats, since the added accuracy of doubles \n",
    "                # is generally not useful for neural networks.\n",
    "                # We fix this issue by changing the datatype of 'X' and 'y' with the .float method.\n",
    "                yhat = self.model.forward(batch['X'].float())\n",
    "\n",
    "                # Compute the batch error.\n",
    "                loss = nn.BCELoss()\n",
    "\n",
    "                batch_loss = loss(yhat, batch['y'].float())\n",
    "                #F.cross_entropy(yhat, batch['y'].long())\n",
    "                #batch_loss = F.mse_loss(yhat, batch['y'].float())\n",
    "                epoch_loss += batch_loss.item()\n",
    "\n",
    "                # Backpropagate the gradient and adjust the weights.\n",
    "                batch_loss.backward()\n",
    "                optimizer.step()\n",
    "\n",
    "            print(f'Epoch {epoch+1}/{epochs} - Loss: {round(epoch_loss, 3)}')\n",
    "        "
   ]
  },
  {
   "cell_type": "code",
   "execution_count": 10,
   "metadata": {},
   "outputs": [
    {
     "data": {
      "text/plain": [
       "tensor([[[0.1668, 0.0711, 0.0629, 0.0650, 0.0519, 0.1338, 0.1780, 0.0703,\n",
       "          0.0786, 0.1216]]], grad_fn=<UnsqueezeBackward0>)"
      ]
     },
     "execution_count": 10,
     "metadata": {},
     "output_type": "execute_result"
    }
   ],
   "source": [
    "MyCNN = CNN()\n",
    "\n",
    "training_dataset = BasicDataset(X_train, y_train)\n",
    "\n",
    "MyCNN.forward(np.expand_dims(X_train[:1], axis=1))"
   ]
  },
  {
   "cell_type": "code",
   "execution_count": 11,
   "metadata": {},
   "outputs": [
    {
     "name": "stdout",
     "output_type": "stream",
     "text": [
      "Epoch 1/10 - Loss: 15.528\n",
      "Epoch 2/10 - Loss: 5.847\n",
      "Epoch 3/10 - Loss: 4.029\n",
      "Epoch 4/10 - Loss: 3.269\n",
      "Epoch 5/10 - Loss: 2.794\n",
      "Epoch 6/10 - Loss: 2.407\n",
      "Epoch 7/10 - Loss: 2.116\n",
      "Epoch 8/10 - Loss: 1.913\n",
      "Epoch 9/10 - Loss: 1.781\n",
      "Epoch 10/10 - Loss: 1.667\n"
     ]
    }
   ],
   "source": [
    "MyCNN.train(training_dataset, 0.1, 1000, 10)"
   ]
  },
  {
   "cell_type": "code",
   "execution_count": 12,
   "metadata": {
    "scrolled": true
   },
   "outputs": [
    {
     "name": "stdout",
     "output_type": "stream",
     "text": [
      "tensor([7, 2, 1, 0, 4, 1, 4, 9, 6, 9])\n",
      "tensor([7, 2, 1, 0, 4, 1, 4, 9, 5, 9])\n"
     ]
    }
   ],
   "source": [
    "y_hat = MyCNN.forward(torch.tensor(np.expand_dims(X_test[:10], axis=1)).float()).squeeze(0)\n",
    "\n",
    "print(torch.argmax(y_hat, dim=1))\n",
    "print(torch.argmax(y_test[:10], dim=1))"
   ]
  },
  {
   "cell_type": "code",
   "execution_count": 13,
   "metadata": {},
   "outputs": [
    {
     "name": "stdout",
     "output_type": "stream",
     "text": [
      "tensor([7, 2, 1,  ..., 4, 5, 6])\n",
      "tensor([7, 2, 1,  ..., 4, 5, 6])\n",
      "Precision: 0.952457619365991\n",
      "Recall: 0.9522596223488143\n",
      "F1: 0.9522511467828118\n"
     ]
    },
    {
     "data": {
      "image/png": "[encoded data removed]",
      "text/plain": [
       "<Figure size 432x288 with 1 Axes>"
      ]
     },
     "metadata": {
      "needs_background": "light"
     },
     "output_type": "display_data"
    }
   ],
   "source": [
    "y_hat = MyCNN.forward(torch.tensor(np.expand_dims(X_test, axis=1)).float()).squeeze(0)\n",
    "\n",
    "y_hat = torch.argmax(y_hat, dim=1)\n",
    "y_test1 = torch.argmax(y_test, dim=1)\n",
    "\n",
    "print(y_hat)\n",
    "print(y_test1)\n",
    "\n",
    "def plot_confusion_matrix(cmatrix, classifier_name):\n",
    "    import matplotlib.pyplot as plt\n",
    "    \n",
    "    fig, ax = plt.subplots(1, 1)\n",
    "    ax.matshow(cmatrix, cmap='Greens')\n",
    "    for x in range(10):\n",
    "        for y in range(10):\n",
    "            ax.text(x, y, cmatrix[y, x])\n",
    "    ax.set_xlabel('predicted label')\n",
    "    ax.set_ylabel('true label')\n",
    "    ax.set_title(classifier_name)\n",
    "\n",
    "cm = sklearn.metrics.confusion_matrix(y_test1, y_hat.detach().numpy())\n",
    "plot_confusion_matrix(cm, \"MyCNN\")\n",
    "precision, recall, f1, _ = sklearn.metrics.precision_recall_fscore_support(y_test1, y_hat.detach().numpy())\n",
    "print(\"Precision:\", np.mean(precision))\n",
    "print(\"Recall:\", np.mean(recall))\n",
    "print(\"F1:\", np.mean(f1))"
   ]
  },
  {
   "cell_type": "code",
   "execution_count": 14,
   "metadata": {},
   "outputs": [
    {
     "name": "stdout",
     "output_type": "stream",
     "text": [
      "pygame 1.9.6\n",
      "Hello from the pygame community. https://www.pygame.org/contribute.html\n"
     ]
    },
    {
     "data": {
      "image/png": "[encoded data removed]",
      "text/plain": [
       "<Figure size 432x288 with 1 Axes>"
      ]
     },
     "metadata": {
      "needs_background": "light"
     },
     "output_type": "display_data"
    },
    {
     "data": {
      "image/png": "[encoded data removed]",
      "text/plain": [
       "<Figure size 432x288 with 1 Axes>"
      ]
     },
     "metadata": {
      "needs_background": "light"
     },
     "output_type": "display_data"
    },
    {
     "name": "stdout",
     "output_type": "stream",
     "text": [
      "[ 0.   0.1  0.   0.  99.1  0.   0.   0.7  0.   0.1]\n"
     ]
    }
   ],
   "source": [
    "import pygame as pg\n",
    "import math\n",
    "pg.init()\n",
    "\n",
    "(width, height) = (280, 280)\n",
    "screen = pg.display.set_mode((width, height))\n",
    "screen.fill((255, 255, 255))\n",
    "pg.display.flip()\n",
    "\n",
    "\n",
    "\n",
    "running = True\n",
    "while running:\n",
    "    pg.display.flip()\n",
    "    for event in pg.event.get():\n",
    "        if event.type == pg.MOUSEMOTION:\n",
    "            if event.buttons == (1, 0, 0):\n",
    "                pos = pg.mouse.get_pos()\n",
    "                #x = math.floor(pos[0]/10)*10\n",
    "                #y = math.floor(pos[1]/10)*10\n",
    "                #pg.draw.rect(screen, (0,0,0), (x, y, 10, 10))\n",
    "                pg.draw.circle(screen, (0,0,0), pos, 10, 10)\n",
    "            \n",
    "              \n",
    "        if event.type == pg.QUIT:\n",
    "            running = False\n",
    "            \n",
    "        if event.type == pg.KEYDOWN:\n",
    "            if event.key == pg.K_q:\n",
    "                running = False\n",
    "                \n",
    "\n",
    "\n",
    "img = pg.surfarray.array2d(screen)\n",
    "img = img/16777215*255\n",
    "img = np.array(img.T)\n",
    "img = skimage.transform.resize(img, (28, 28))\n",
    "img = np.rint(255 - img)\n",
    "\n",
    "pg.display.quit()\n",
    "\n",
    "plt.imshow(img, cmap='gray')\n",
    "plt.show()\n",
    "\n",
    "out = MyCNN.forward(np.expand_dims(np.expand_dims(img, axis=0), axis=0))\n",
    "#out = torch.argmax(out, dim=2)\n",
    "out = out.detach().numpy().squeeze(0).squeeze(0)\n",
    "plt.bar(range(0, 10), out)\n",
    "plt.ylim(0, 1)\n",
    "plt.show()\n",
    "\n",
    "print(np.around(out*100, decimals=1))"
   ]
  },
  {
   "cell_type": "code",
   "execution_count": null,
   "metadata": {},
   "outputs": [],
   "source": [
    "test1"
   ]
  }
 ],
 "metadata": {
  "kernelspec": {
   "display_name": "Python 3",
   "language": "python",
   "name": "python3"
  },
  "language_info": {
   "codemirror_mode": {
    "name": "ipython",
    "version": 3
   },
   "file_extension": ".py",
   "mimetype": "text/x-python",
   "name": "python",
   "nbconvert_exporter": "python",
   "pygments_lexer": "ipython3",
   "version": "3.8.2-final"
  }
 },
 "nbformat": 4,
 "nbformat_minor": 4
}